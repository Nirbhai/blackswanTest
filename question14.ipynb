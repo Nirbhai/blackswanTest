{
 "cells": [
  {
   "cell_type": "code",
   "execution_count": 2,
   "id": "aabb3281",
   "metadata": {},
   "outputs": [
    {
     "name": "stdout",
     "output_type": "stream",
     "text": [
      "Requirement already satisfied: spacy in /Users/nirbhaisingh/opt/anaconda3/envs/dpc2022/lib/python3.9/site-packages (3.3.1)\n",
      "Requirement already satisfied: numpy>=1.15.0 in /Users/nirbhaisingh/opt/anaconda3/envs/dpc2022/lib/python3.9/site-packages (from spacy) (1.21.2)\n",
      "Requirement already satisfied: spacy-legacy<3.1.0,>=3.0.9 in /Users/nirbhaisingh/opt/anaconda3/envs/dpc2022/lib/python3.9/site-packages (from spacy) (3.0.9)\n",
      "Requirement already satisfied: wasabi<1.1.0,>=0.9.1 in /Users/nirbhaisingh/opt/anaconda3/envs/dpc2022/lib/python3.9/site-packages (from spacy) (0.9.1)\n",
      "Requirement already satisfied: spacy-loggers<2.0.0,>=1.0.0 in /Users/nirbhaisingh/opt/anaconda3/envs/dpc2022/lib/python3.9/site-packages (from spacy) (1.0.2)\n",
      "Requirement already satisfied: catalogue<2.1.0,>=2.0.6 in /Users/nirbhaisingh/opt/anaconda3/envs/dpc2022/lib/python3.9/site-packages (from spacy) (2.0.7)\n",
      "Requirement already satisfied: tqdm<5.0.0,>=4.38.0 in /Users/nirbhaisingh/opt/anaconda3/envs/dpc2022/lib/python3.9/site-packages (from spacy) (4.62.0)\n",
      "Requirement already satisfied: preshed<3.1.0,>=3.0.2 in /Users/nirbhaisingh/opt/anaconda3/envs/dpc2022/lib/python3.9/site-packages (from spacy) (3.0.6)\n",
      "Requirement already satisfied: pydantic!=1.8,!=1.8.1,<1.9.0,>=1.7.4 in /Users/nirbhaisingh/opt/anaconda3/envs/dpc2022/lib/python3.9/site-packages (from spacy) (1.8.2)\n",
      "Requirement already satisfied: packaging>=20.0 in /Users/nirbhaisingh/opt/anaconda3/envs/dpc2022/lib/python3.9/site-packages (from spacy) (21.3)\n",
      "Requirement already satisfied: murmurhash<1.1.0,>=0.28.0 in /Users/nirbhaisingh/opt/anaconda3/envs/dpc2022/lib/python3.9/site-packages (from spacy) (1.0.7)\n",
      "Requirement already satisfied: typer<0.5.0,>=0.3.0 in /Users/nirbhaisingh/opt/anaconda3/envs/dpc2022/lib/python3.9/site-packages (from spacy) (0.4.1)\n",
      "Requirement already satisfied: jinja2 in /Users/nirbhaisingh/opt/anaconda3/envs/dpc2022/lib/python3.9/site-packages (from spacy) (2.11.3)\n",
      "Requirement already satisfied: thinc<8.1.0,>=8.0.14 in /Users/nirbhaisingh/opt/anaconda3/envs/dpc2022/lib/python3.9/site-packages (from spacy) (8.0.17)\n",
      "Requirement already satisfied: pathy>=0.3.5 in /Users/nirbhaisingh/opt/anaconda3/envs/dpc2022/lib/python3.9/site-packages (from spacy) (0.6.1)\n",
      "Requirement already satisfied: cymem<2.1.0,>=2.0.2 in /Users/nirbhaisingh/opt/anaconda3/envs/dpc2022/lib/python3.9/site-packages (from spacy) (2.0.6)\n",
      "Requirement already satisfied: blis<0.8.0,>=0.4.0 in /Users/nirbhaisingh/opt/anaconda3/envs/dpc2022/lib/python3.9/site-packages (from spacy) (0.7.8)\n",
      "Requirement already satisfied: requests<3.0.0,>=2.13.0 in /Users/nirbhaisingh/opt/anaconda3/envs/dpc2022/lib/python3.9/site-packages (from spacy) (2.27.1)\n",
      "Requirement already satisfied: srsly<3.0.0,>=2.4.3 in /Users/nirbhaisingh/opt/anaconda3/envs/dpc2022/lib/python3.9/site-packages (from spacy) (2.4.3)\n",
      "Requirement already satisfied: setuptools in /Users/nirbhaisingh/opt/anaconda3/envs/dpc2022/lib/python3.9/site-packages (from spacy) (58.0.4)\n",
      "Requirement already satisfied: langcodes<4.0.0,>=3.2.0 in /Users/nirbhaisingh/opt/anaconda3/envs/dpc2022/lib/python3.9/site-packages (from spacy) (3.3.0)\n",
      "Requirement already satisfied: pyparsing!=3.0.5,>=2.0.2 in /Users/nirbhaisingh/opt/anaconda3/envs/dpc2022/lib/python3.9/site-packages (from packaging>=20.0->spacy) (3.0.4)\n",
      "Requirement already satisfied: smart-open<6.0.0,>=5.0.0 in /Users/nirbhaisingh/opt/anaconda3/envs/dpc2022/lib/python3.9/site-packages (from pathy>=0.3.5->spacy) (5.2.1)\n",
      "Requirement already satisfied: typing-extensions>=3.7.4.3 in /Users/nirbhaisingh/opt/anaconda3/envs/dpc2022/lib/python3.9/site-packages (from pydantic!=1.8,!=1.8.1,<1.9.0,>=1.7.4->spacy) (3.10.0.2)\n",
      "Requirement already satisfied: certifi>=2017.4.17 in /Users/nirbhaisingh/opt/anaconda3/envs/dpc2022/lib/python3.9/site-packages (from requests<3.0.0,>=2.13.0->spacy) (2022.5.18)\n",
      "Requirement already satisfied: urllib3<1.27,>=1.21.1 in /Users/nirbhaisingh/opt/anaconda3/envs/dpc2022/lib/python3.9/site-packages (from requests<3.0.0,>=2.13.0->spacy) (1.26.8)\n",
      "Requirement already satisfied: charset-normalizer~=2.0.0 in /Users/nirbhaisingh/opt/anaconda3/envs/dpc2022/lib/python3.9/site-packages (from requests<3.0.0,>=2.13.0->spacy) (2.0.4)\n",
      "Requirement already satisfied: idna<4,>=2.5 in /Users/nirbhaisingh/opt/anaconda3/envs/dpc2022/lib/python3.9/site-packages (from requests<3.0.0,>=2.13.0->spacy) (3.3)\n",
      "Requirement already satisfied: click<9.0.0,>=7.1.1 in /Users/nirbhaisingh/opt/anaconda3/envs/dpc2022/lib/python3.9/site-packages (from typer<0.5.0,>=0.3.0->spacy) (8.0.3)\n",
      "Requirement already satisfied: MarkupSafe>=0.23 in /Users/nirbhaisingh/opt/anaconda3/envs/dpc2022/lib/python3.9/site-packages (from jinja2->spacy) (1.1.1)\n",
      "Requirement already satisfied: langdetect in /Users/nirbhaisingh/opt/anaconda3/envs/dpc2022/lib/python3.9/site-packages (1.0.9)\n",
      "Requirement already satisfied: six in /Users/nirbhaisingh/opt/anaconda3/envs/dpc2022/lib/python3.9/site-packages (from langdetect) (1.16.0)\n",
      "Collecting en-core-web-sm==3.3.0\n",
      "  Downloading https://github.com/explosion/spacy-models/releases/download/en_core_web_sm-3.3.0/en_core_web_sm-3.3.0-py3-none-any.whl (12.8 MB)\n",
      "\u001b[K     |████████████████████████████████| 12.8 MB 1.0 MB/s eta 0:00:01\n",
      "\u001b[?25hRequirement already satisfied: spacy<3.4.0,>=3.3.0.dev0 in /Users/nirbhaisingh/opt/anaconda3/envs/dpc2022/lib/python3.9/site-packages (from en-core-web-sm==3.3.0) (3.3.1)\n",
      "Requirement already satisfied: cymem<2.1.0,>=2.0.2 in /Users/nirbhaisingh/opt/anaconda3/envs/dpc2022/lib/python3.9/site-packages (from spacy<3.4.0,>=3.3.0.dev0->en-core-web-sm==3.3.0) (2.0.6)\n",
      "Requirement already satisfied: blis<0.8.0,>=0.4.0 in /Users/nirbhaisingh/opt/anaconda3/envs/dpc2022/lib/python3.9/site-packages (from spacy<3.4.0,>=3.3.0.dev0->en-core-web-sm==3.3.0) (0.7.8)\n",
      "Requirement already satisfied: pathy>=0.3.5 in /Users/nirbhaisingh/opt/anaconda3/envs/dpc2022/lib/python3.9/site-packages (from spacy<3.4.0,>=3.3.0.dev0->en-core-web-sm==3.3.0) (0.6.1)\n",
      "Requirement already satisfied: spacy-legacy<3.1.0,>=3.0.9 in /Users/nirbhaisingh/opt/anaconda3/envs/dpc2022/lib/python3.9/site-packages (from spacy<3.4.0,>=3.3.0.dev0->en-core-web-sm==3.3.0) (3.0.9)\n",
      "Requirement already satisfied: preshed<3.1.0,>=3.0.2 in /Users/nirbhaisingh/opt/anaconda3/envs/dpc2022/lib/python3.9/site-packages (from spacy<3.4.0,>=3.3.0.dev0->en-core-web-sm==3.3.0) (3.0.6)\n",
      "Requirement already satisfied: spacy-loggers<2.0.0,>=1.0.0 in /Users/nirbhaisingh/opt/anaconda3/envs/dpc2022/lib/python3.9/site-packages (from spacy<3.4.0,>=3.3.0.dev0->en-core-web-sm==3.3.0) (1.0.2)\n",
      "Requirement already satisfied: setuptools in /Users/nirbhaisingh/opt/anaconda3/envs/dpc2022/lib/python3.9/site-packages (from spacy<3.4.0,>=3.3.0.dev0->en-core-web-sm==3.3.0) (58.0.4)\n",
      "Requirement already satisfied: numpy>=1.15.0 in /Users/nirbhaisingh/opt/anaconda3/envs/dpc2022/lib/python3.9/site-packages (from spacy<3.4.0,>=3.3.0.dev0->en-core-web-sm==3.3.0) (1.21.2)\n",
      "Requirement already satisfied: packaging>=20.0 in /Users/nirbhaisingh/opt/anaconda3/envs/dpc2022/lib/python3.9/site-packages (from spacy<3.4.0,>=3.3.0.dev0->en-core-web-sm==3.3.0) (21.3)\n",
      "Requirement already satisfied: langcodes<4.0.0,>=3.2.0 in /Users/nirbhaisingh/opt/anaconda3/envs/dpc2022/lib/python3.9/site-packages (from spacy<3.4.0,>=3.3.0.dev0->en-core-web-sm==3.3.0) (3.3.0)\n",
      "Requirement already satisfied: catalogue<2.1.0,>=2.0.6 in /Users/nirbhaisingh/opt/anaconda3/envs/dpc2022/lib/python3.9/site-packages (from spacy<3.4.0,>=3.3.0.dev0->en-core-web-sm==3.3.0) (2.0.7)\n",
      "Requirement already satisfied: wasabi<1.1.0,>=0.9.1 in /Users/nirbhaisingh/opt/anaconda3/envs/dpc2022/lib/python3.9/site-packages (from spacy<3.4.0,>=3.3.0.dev0->en-core-web-sm==3.3.0) (0.9.1)\n",
      "Requirement already satisfied: typer<0.5.0,>=0.3.0 in /Users/nirbhaisingh/opt/anaconda3/envs/dpc2022/lib/python3.9/site-packages (from spacy<3.4.0,>=3.3.0.dev0->en-core-web-sm==3.3.0) (0.4.1)\n",
      "Requirement already satisfied: requests<3.0.0,>=2.13.0 in /Users/nirbhaisingh/opt/anaconda3/envs/dpc2022/lib/python3.9/site-packages (from spacy<3.4.0,>=3.3.0.dev0->en-core-web-sm==3.3.0) (2.27.1)\n",
      "Requirement already satisfied: srsly<3.0.0,>=2.4.3 in /Users/nirbhaisingh/opt/anaconda3/envs/dpc2022/lib/python3.9/site-packages (from spacy<3.4.0,>=3.3.0.dev0->en-core-web-sm==3.3.0) (2.4.3)\n",
      "Requirement already satisfied: jinja2 in /Users/nirbhaisingh/opt/anaconda3/envs/dpc2022/lib/python3.9/site-packages (from spacy<3.4.0,>=3.3.0.dev0->en-core-web-sm==3.3.0) (2.11.3)\n",
      "Requirement already satisfied: murmurhash<1.1.0,>=0.28.0 in /Users/nirbhaisingh/opt/anaconda3/envs/dpc2022/lib/python3.9/site-packages (from spacy<3.4.0,>=3.3.0.dev0->en-core-web-sm==3.3.0) (1.0.7)\n",
      "Requirement already satisfied: thinc<8.1.0,>=8.0.14 in /Users/nirbhaisingh/opt/anaconda3/envs/dpc2022/lib/python3.9/site-packages (from spacy<3.4.0,>=3.3.0.dev0->en-core-web-sm==3.3.0) (8.0.17)\n",
      "Requirement already satisfied: pydantic!=1.8,!=1.8.1,<1.9.0,>=1.7.4 in /Users/nirbhaisingh/opt/anaconda3/envs/dpc2022/lib/python3.9/site-packages (from spacy<3.4.0,>=3.3.0.dev0->en-core-web-sm==3.3.0) (1.8.2)\n",
      "Requirement already satisfied: tqdm<5.0.0,>=4.38.0 in /Users/nirbhaisingh/opt/anaconda3/envs/dpc2022/lib/python3.9/site-packages (from spacy<3.4.0,>=3.3.0.dev0->en-core-web-sm==3.3.0) (4.62.0)\n",
      "Requirement already satisfied: pyparsing!=3.0.5,>=2.0.2 in /Users/nirbhaisingh/opt/anaconda3/envs/dpc2022/lib/python3.9/site-packages (from packaging>=20.0->spacy<3.4.0,>=3.3.0.dev0->en-core-web-sm==3.3.0) (3.0.4)\n",
      "Requirement already satisfied: smart-open<6.0.0,>=5.0.0 in /Users/nirbhaisingh/opt/anaconda3/envs/dpc2022/lib/python3.9/site-packages (from pathy>=0.3.5->spacy<3.4.0,>=3.3.0.dev0->en-core-web-sm==3.3.0) (5.2.1)\n"
     ]
    },
    {
     "name": "stdout",
     "output_type": "stream",
     "text": [
      "Requirement already satisfied: typing-extensions>=3.7.4.3 in /Users/nirbhaisingh/opt/anaconda3/envs/dpc2022/lib/python3.9/site-packages (from pydantic!=1.8,!=1.8.1,<1.9.0,>=1.7.4->spacy<3.4.0,>=3.3.0.dev0->en-core-web-sm==3.3.0) (3.10.0.2)\n",
      "Requirement already satisfied: idna<4,>=2.5 in /Users/nirbhaisingh/opt/anaconda3/envs/dpc2022/lib/python3.9/site-packages (from requests<3.0.0,>=2.13.0->spacy<3.4.0,>=3.3.0.dev0->en-core-web-sm==3.3.0) (3.3)\n",
      "Requirement already satisfied: urllib3<1.27,>=1.21.1 in /Users/nirbhaisingh/opt/anaconda3/envs/dpc2022/lib/python3.9/site-packages (from requests<3.0.0,>=2.13.0->spacy<3.4.0,>=3.3.0.dev0->en-core-web-sm==3.3.0) (1.26.8)\n",
      "Requirement already satisfied: certifi>=2017.4.17 in /Users/nirbhaisingh/opt/anaconda3/envs/dpc2022/lib/python3.9/site-packages (from requests<3.0.0,>=2.13.0->spacy<3.4.0,>=3.3.0.dev0->en-core-web-sm==3.3.0) (2022.5.18)\n",
      "Requirement already satisfied: charset-normalizer~=2.0.0 in /Users/nirbhaisingh/opt/anaconda3/envs/dpc2022/lib/python3.9/site-packages (from requests<3.0.0,>=2.13.0->spacy<3.4.0,>=3.3.0.dev0->en-core-web-sm==3.3.0) (2.0.4)\n",
      "Requirement already satisfied: click<9.0.0,>=7.1.1 in /Users/nirbhaisingh/opt/anaconda3/envs/dpc2022/lib/python3.9/site-packages (from typer<0.5.0,>=0.3.0->spacy<3.4.0,>=3.3.0.dev0->en-core-web-sm==3.3.0) (8.0.3)\n",
      "Requirement already satisfied: MarkupSafe>=0.23 in /Users/nirbhaisingh/opt/anaconda3/envs/dpc2022/lib/python3.9/site-packages (from jinja2->spacy<3.4.0,>=3.3.0.dev0->en-core-web-sm==3.3.0) (1.1.1)\n",
      "\u001b[38;5;2m✔ Download and installation successful\u001b[0m\n",
      "You can now load the package via spacy.load('en_core_web_sm')\n",
      "Collecting es-core-news-sm==3.3.0\n",
      "  Downloading https://github.com/explosion/spacy-models/releases/download/es_core_news_sm-3.3.0/es_core_news_sm-3.3.0-py3-none-any.whl (12.9 MB)\n",
      "\u001b[K     |████████████████████████████████| 12.9 MB 477 kB/s eta 0:00:01\n",
      "\u001b[?25hRequirement already satisfied: spacy<3.4.0,>=3.3.0.dev0 in /Users/nirbhaisingh/opt/anaconda3/envs/dpc2022/lib/python3.9/site-packages (from es-core-news-sm==3.3.0) (3.3.1)\n",
      "Requirement already satisfied: spacy-loggers<2.0.0,>=1.0.0 in /Users/nirbhaisingh/opt/anaconda3/envs/dpc2022/lib/python3.9/site-packages (from spacy<3.4.0,>=3.3.0.dev0->es-core-news-sm==3.3.0) (1.0.2)\n",
      "Requirement already satisfied: setuptools in /Users/nirbhaisingh/opt/anaconda3/envs/dpc2022/lib/python3.9/site-packages (from spacy<3.4.0,>=3.3.0.dev0->es-core-news-sm==3.3.0) (58.0.4)\n",
      "Requirement already satisfied: requests<3.0.0,>=2.13.0 in /Users/nirbhaisingh/opt/anaconda3/envs/dpc2022/lib/python3.9/site-packages (from spacy<3.4.0,>=3.3.0.dev0->es-core-news-sm==3.3.0) (2.27.1)\n",
      "Requirement already satisfied: blis<0.8.0,>=0.4.0 in /Users/nirbhaisingh/opt/anaconda3/envs/dpc2022/lib/python3.9/site-packages (from spacy<3.4.0,>=3.3.0.dev0->es-core-news-sm==3.3.0) (0.7.8)\n",
      "Requirement already satisfied: numpy>=1.15.0 in /Users/nirbhaisingh/opt/anaconda3/envs/dpc2022/lib/python3.9/site-packages (from spacy<3.4.0,>=3.3.0.dev0->es-core-news-sm==3.3.0) (1.21.2)\n",
      "Requirement already satisfied: murmurhash<1.1.0,>=0.28.0 in /Users/nirbhaisingh/opt/anaconda3/envs/dpc2022/lib/python3.9/site-packages (from spacy<3.4.0,>=3.3.0.dev0->es-core-news-sm==3.3.0) (1.0.7)\n",
      "Requirement already satisfied: packaging>=20.0 in /Users/nirbhaisingh/opt/anaconda3/envs/dpc2022/lib/python3.9/site-packages (from spacy<3.4.0,>=3.3.0.dev0->es-core-news-sm==3.3.0) (21.3)\n",
      "Requirement already satisfied: langcodes<4.0.0,>=3.2.0 in /Users/nirbhaisingh/opt/anaconda3/envs/dpc2022/lib/python3.9/site-packages (from spacy<3.4.0,>=3.3.0.dev0->es-core-news-sm==3.3.0) (3.3.0)\n",
      "Requirement already satisfied: typer<0.5.0,>=0.3.0 in /Users/nirbhaisingh/opt/anaconda3/envs/dpc2022/lib/python3.9/site-packages (from spacy<3.4.0,>=3.3.0.dev0->es-core-news-sm==3.3.0) (0.4.1)\n",
      "Requirement already satisfied: catalogue<2.1.0,>=2.0.6 in /Users/nirbhaisingh/opt/anaconda3/envs/dpc2022/lib/python3.9/site-packages (from spacy<3.4.0,>=3.3.0.dev0->es-core-news-sm==3.3.0) (2.0.7)\n",
      "Requirement already satisfied: spacy-legacy<3.1.0,>=3.0.9 in /Users/nirbhaisingh/opt/anaconda3/envs/dpc2022/lib/python3.9/site-packages (from spacy<3.4.0,>=3.3.0.dev0->es-core-news-sm==3.3.0) (3.0.9)\n",
      "Requirement already satisfied: thinc<8.1.0,>=8.0.14 in /Users/nirbhaisingh/opt/anaconda3/envs/dpc2022/lib/python3.9/site-packages (from spacy<3.4.0,>=3.3.0.dev0->es-core-news-sm==3.3.0) (8.0.17)\n",
      "Requirement already satisfied: pydantic!=1.8,!=1.8.1,<1.9.0,>=1.7.4 in /Users/nirbhaisingh/opt/anaconda3/envs/dpc2022/lib/python3.9/site-packages (from spacy<3.4.0,>=3.3.0.dev0->es-core-news-sm==3.3.0) (1.8.2)\n",
      "Requirement already satisfied: tqdm<5.0.0,>=4.38.0 in /Users/nirbhaisingh/opt/anaconda3/envs/dpc2022/lib/python3.9/site-packages (from spacy<3.4.0,>=3.3.0.dev0->es-core-news-sm==3.3.0) (4.62.0)\n",
      "Requirement already satisfied: cymem<2.1.0,>=2.0.2 in /Users/nirbhaisingh/opt/anaconda3/envs/dpc2022/lib/python3.9/site-packages (from spacy<3.4.0,>=3.3.0.dev0->es-core-news-sm==3.3.0) (2.0.6)\n",
      "Requirement already satisfied: pathy>=0.3.5 in /Users/nirbhaisingh/opt/anaconda3/envs/dpc2022/lib/python3.9/site-packages (from spacy<3.4.0,>=3.3.0.dev0->es-core-news-sm==3.3.0) (0.6.1)\n",
      "Requirement already satisfied: preshed<3.1.0,>=3.0.2 in /Users/nirbhaisingh/opt/anaconda3/envs/dpc2022/lib/python3.9/site-packages (from spacy<3.4.0,>=3.3.0.dev0->es-core-news-sm==3.3.0) (3.0.6)\n",
      "Requirement already satisfied: wasabi<1.1.0,>=0.9.1 in /Users/nirbhaisingh/opt/anaconda3/envs/dpc2022/lib/python3.9/site-packages (from spacy<3.4.0,>=3.3.0.dev0->es-core-news-sm==3.3.0) (0.9.1)\n",
      "Requirement already satisfied: jinja2 in /Users/nirbhaisingh/opt/anaconda3/envs/dpc2022/lib/python3.9/site-packages (from spacy<3.4.0,>=3.3.0.dev0->es-core-news-sm==3.3.0) (2.11.3)\n",
      "Requirement already satisfied: srsly<3.0.0,>=2.4.3 in /Users/nirbhaisingh/opt/anaconda3/envs/dpc2022/lib/python3.9/site-packages (from spacy<3.4.0,>=3.3.0.dev0->es-core-news-sm==3.3.0) (2.4.3)\n",
      "Requirement already satisfied: pyparsing!=3.0.5,>=2.0.2 in /Users/nirbhaisingh/opt/anaconda3/envs/dpc2022/lib/python3.9/site-packages (from packaging>=20.0->spacy<3.4.0,>=3.3.0.dev0->es-core-news-sm==3.3.0) (3.0.4)\n",
      "Requirement already satisfied: smart-open<6.0.0,>=5.0.0 in /Users/nirbhaisingh/opt/anaconda3/envs/dpc2022/lib/python3.9/site-packages (from pathy>=0.3.5->spacy<3.4.0,>=3.3.0.dev0->es-core-news-sm==3.3.0) (5.2.1)\n",
      "Requirement already satisfied: typing-extensions>=3.7.4.3 in /Users/nirbhaisingh/opt/anaconda3/envs/dpc2022/lib/python3.9/site-packages (from pydantic!=1.8,!=1.8.1,<1.9.0,>=1.7.4->spacy<3.4.0,>=3.3.0.dev0->es-core-news-sm==3.3.0) (3.10.0.2)\n",
      "Requirement already satisfied: charset-normalizer~=2.0.0 in /Users/nirbhaisingh/opt/anaconda3/envs/dpc2022/lib/python3.9/site-packages (from requests<3.0.0,>=2.13.0->spacy<3.4.0,>=3.3.0.dev0->es-core-news-sm==3.3.0) (2.0.4)\n",
      "Requirement already satisfied: idna<4,>=2.5 in /Users/nirbhaisingh/opt/anaconda3/envs/dpc2022/lib/python3.9/site-packages (from requests<3.0.0,>=2.13.0->spacy<3.4.0,>=3.3.0.dev0->es-core-news-sm==3.3.0) (3.3)\n",
      "Requirement already satisfied: certifi>=2017.4.17 in /Users/nirbhaisingh/opt/anaconda3/envs/dpc2022/lib/python3.9/site-packages (from requests<3.0.0,>=2.13.0->spacy<3.4.0,>=3.3.0.dev0->es-core-news-sm==3.3.0) (2022.5.18)\n",
      "Requirement already satisfied: urllib3<1.27,>=1.21.1 in /Users/nirbhaisingh/opt/anaconda3/envs/dpc2022/lib/python3.9/site-packages (from requests<3.0.0,>=2.13.0->spacy<3.4.0,>=3.3.0.dev0->es-core-news-sm==3.3.0) (1.26.8)\n",
      "Requirement already satisfied: click<9.0.0,>=7.1.1 in /Users/nirbhaisingh/opt/anaconda3/envs/dpc2022/lib/python3.9/site-packages (from typer<0.5.0,>=0.3.0->spacy<3.4.0,>=3.3.0.dev0->es-core-news-sm==3.3.0) (8.0.3)\n",
      "Requirement already satisfied: MarkupSafe>=0.23 in /Users/nirbhaisingh/opt/anaconda3/envs/dpc2022/lib/python3.9/site-packages (from jinja2->spacy<3.4.0,>=3.3.0.dev0->es-core-news-sm==3.3.0) (1.1.1)\n",
      "\u001b[38;5;2m✔ Download and installation successful\u001b[0m\n",
      "You can now load the package via spacy.load('es_core_news_sm')\n",
      "Collecting pt-core-news-sm==3.3.0\n",
      "  Downloading https://github.com/explosion/spacy-models/releases/download/pt_core_news_sm-3.3.0/pt_core_news_sm-3.3.0-py3-none-any.whl (13.0 MB)\n"
     ]
    },
    {
     "name": "stdout",
     "output_type": "stream",
     "text": [
      "\u001b[K     |████████████████████████████████| 13.0 MB 215 kB/s eta 0:00:01\n",
      "\u001b[?25hRequirement already satisfied: spacy<3.4.0,>=3.3.0.dev0 in /Users/nirbhaisingh/opt/anaconda3/envs/dpc2022/lib/python3.9/site-packages (from pt-core-news-sm==3.3.0) (3.3.1)\n",
      "Requirement already satisfied: murmurhash<1.1.0,>=0.28.0 in /Users/nirbhaisingh/opt/anaconda3/envs/dpc2022/lib/python3.9/site-packages (from spacy<3.4.0,>=3.3.0.dev0->pt-core-news-sm==3.3.0) (1.0.7)\n",
      "Requirement already satisfied: pydantic!=1.8,!=1.8.1,<1.9.0,>=1.7.4 in /Users/nirbhaisingh/opt/anaconda3/envs/dpc2022/lib/python3.9/site-packages (from spacy<3.4.0,>=3.3.0.dev0->pt-core-news-sm==3.3.0) (1.8.2)\n",
      "Requirement already satisfied: srsly<3.0.0,>=2.4.3 in /Users/nirbhaisingh/opt/anaconda3/envs/dpc2022/lib/python3.9/site-packages (from spacy<3.4.0,>=3.3.0.dev0->pt-core-news-sm==3.3.0) (2.4.3)\n",
      "Requirement already satisfied: typer<0.5.0,>=0.3.0 in /Users/nirbhaisingh/opt/anaconda3/envs/dpc2022/lib/python3.9/site-packages (from spacy<3.4.0,>=3.3.0.dev0->pt-core-news-sm==3.3.0) (0.4.1)\n",
      "Requirement already satisfied: requests<3.0.0,>=2.13.0 in /Users/nirbhaisingh/opt/anaconda3/envs/dpc2022/lib/python3.9/site-packages (from spacy<3.4.0,>=3.3.0.dev0->pt-core-news-sm==3.3.0) (2.27.1)\n",
      "Requirement already satisfied: catalogue<2.1.0,>=2.0.6 in /Users/nirbhaisingh/opt/anaconda3/envs/dpc2022/lib/python3.9/site-packages (from spacy<3.4.0,>=3.3.0.dev0->pt-core-news-sm==3.3.0) (2.0.7)\n",
      "Requirement already satisfied: wasabi<1.1.0,>=0.9.1 in /Users/nirbhaisingh/opt/anaconda3/envs/dpc2022/lib/python3.9/site-packages (from spacy<3.4.0,>=3.3.0.dev0->pt-core-news-sm==3.3.0) (0.9.1)\n",
      "Requirement already satisfied: pathy>=0.3.5 in /Users/nirbhaisingh/opt/anaconda3/envs/dpc2022/lib/python3.9/site-packages (from spacy<3.4.0,>=3.3.0.dev0->pt-core-news-sm==3.3.0) (0.6.1)\n",
      "Requirement already satisfied: cymem<2.1.0,>=2.0.2 in /Users/nirbhaisingh/opt/anaconda3/envs/dpc2022/lib/python3.9/site-packages (from spacy<3.4.0,>=3.3.0.dev0->pt-core-news-sm==3.3.0) (2.0.6)\n",
      "Requirement already satisfied: blis<0.8.0,>=0.4.0 in /Users/nirbhaisingh/opt/anaconda3/envs/dpc2022/lib/python3.9/site-packages (from spacy<3.4.0,>=3.3.0.dev0->pt-core-news-sm==3.3.0) (0.7.8)\n",
      "Requirement already satisfied: setuptools in /Users/nirbhaisingh/opt/anaconda3/envs/dpc2022/lib/python3.9/site-packages (from spacy<3.4.0,>=3.3.0.dev0->pt-core-news-sm==3.3.0) (58.0.4)\n",
      "Requirement already satisfied: tqdm<5.0.0,>=4.38.0 in /Users/nirbhaisingh/opt/anaconda3/envs/dpc2022/lib/python3.9/site-packages (from spacy<3.4.0,>=3.3.0.dev0->pt-core-news-sm==3.3.0) (4.62.0)\n",
      "Requirement already satisfied: langcodes<4.0.0,>=3.2.0 in /Users/nirbhaisingh/opt/anaconda3/envs/dpc2022/lib/python3.9/site-packages (from spacy<3.4.0,>=3.3.0.dev0->pt-core-news-sm==3.3.0) (3.3.0)\n",
      "Requirement already satisfied: preshed<3.1.0,>=3.0.2 in /Users/nirbhaisingh/opt/anaconda3/envs/dpc2022/lib/python3.9/site-packages (from spacy<3.4.0,>=3.3.0.dev0->pt-core-news-sm==3.3.0) (3.0.6)\n",
      "Requirement already satisfied: numpy>=1.15.0 in /Users/nirbhaisingh/opt/anaconda3/envs/dpc2022/lib/python3.9/site-packages (from spacy<3.4.0,>=3.3.0.dev0->pt-core-news-sm==3.3.0) (1.21.2)\n",
      "Requirement already satisfied: spacy-legacy<3.1.0,>=3.0.9 in /Users/nirbhaisingh/opt/anaconda3/envs/dpc2022/lib/python3.9/site-packages (from spacy<3.4.0,>=3.3.0.dev0->pt-core-news-sm==3.3.0) (3.0.9)\n",
      "Requirement already satisfied: spacy-loggers<2.0.0,>=1.0.0 in /Users/nirbhaisingh/opt/anaconda3/envs/dpc2022/lib/python3.9/site-packages (from spacy<3.4.0,>=3.3.0.dev0->pt-core-news-sm==3.3.0) (1.0.2)\n",
      "Requirement already satisfied: packaging>=20.0 in /Users/nirbhaisingh/opt/anaconda3/envs/dpc2022/lib/python3.9/site-packages (from spacy<3.4.0,>=3.3.0.dev0->pt-core-news-sm==3.3.0) (21.3)\n",
      "Requirement already satisfied: thinc<8.1.0,>=8.0.14 in /Users/nirbhaisingh/opt/anaconda3/envs/dpc2022/lib/python3.9/site-packages (from spacy<3.4.0,>=3.3.0.dev0->pt-core-news-sm==3.3.0) (8.0.17)\n",
      "Requirement already satisfied: jinja2 in /Users/nirbhaisingh/opt/anaconda3/envs/dpc2022/lib/python3.9/site-packages (from spacy<3.4.0,>=3.3.0.dev0->pt-core-news-sm==3.3.0) (2.11.3)\n",
      "Requirement already satisfied: pyparsing!=3.0.5,>=2.0.2 in /Users/nirbhaisingh/opt/anaconda3/envs/dpc2022/lib/python3.9/site-packages (from packaging>=20.0->spacy<3.4.0,>=3.3.0.dev0->pt-core-news-sm==3.3.0) (3.0.4)\n",
      "Requirement already satisfied: smart-open<6.0.0,>=5.0.0 in /Users/nirbhaisingh/opt/anaconda3/envs/dpc2022/lib/python3.9/site-packages (from pathy>=0.3.5->spacy<3.4.0,>=3.3.0.dev0->pt-core-news-sm==3.3.0) (5.2.1)\n",
      "Requirement already satisfied: typing-extensions>=3.7.4.3 in /Users/nirbhaisingh/opt/anaconda3/envs/dpc2022/lib/python3.9/site-packages (from pydantic!=1.8,!=1.8.1,<1.9.0,>=1.7.4->spacy<3.4.0,>=3.3.0.dev0->pt-core-news-sm==3.3.0) (3.10.0.2)\n",
      "Requirement already satisfied: idna<4,>=2.5 in /Users/nirbhaisingh/opt/anaconda3/envs/dpc2022/lib/python3.9/site-packages (from requests<3.0.0,>=2.13.0->spacy<3.4.0,>=3.3.0.dev0->pt-core-news-sm==3.3.0) (3.3)\n",
      "Requirement already satisfied: charset-normalizer~=2.0.0 in /Users/nirbhaisingh/opt/anaconda3/envs/dpc2022/lib/python3.9/site-packages (from requests<3.0.0,>=2.13.0->spacy<3.4.0,>=3.3.0.dev0->pt-core-news-sm==3.3.0) (2.0.4)\n",
      "Requirement already satisfied: urllib3<1.27,>=1.21.1 in /Users/nirbhaisingh/opt/anaconda3/envs/dpc2022/lib/python3.9/site-packages (from requests<3.0.0,>=2.13.0->spacy<3.4.0,>=3.3.0.dev0->pt-core-news-sm==3.3.0) (1.26.8)\n",
      "Requirement already satisfied: certifi>=2017.4.17 in /Users/nirbhaisingh/opt/anaconda3/envs/dpc2022/lib/python3.9/site-packages (from requests<3.0.0,>=2.13.0->spacy<3.4.0,>=3.3.0.dev0->pt-core-news-sm==3.3.0) (2022.5.18)\n",
      "Requirement already satisfied: click<9.0.0,>=7.1.1 in /Users/nirbhaisingh/opt/anaconda3/envs/dpc2022/lib/python3.9/site-packages (from typer<0.5.0,>=0.3.0->spacy<3.4.0,>=3.3.0.dev0->pt-core-news-sm==3.3.0) (8.0.3)\n",
      "Requirement already satisfied: MarkupSafe>=0.23 in /Users/nirbhaisingh/opt/anaconda3/envs/dpc2022/lib/python3.9/site-packages (from jinja2->spacy<3.4.0,>=3.3.0.dev0->pt-core-news-sm==3.3.0) (1.1.1)\n",
      "\u001b[38;5;2m✔ Download and installation successful\u001b[0m\n",
      "You can now load the package via spacy.load('pt_core_news_sm')\n",
      "Collecting ru-core-news-sm==3.3.0\n",
      "  Downloading https://github.com/explosion/spacy-models/releases/download/ru_core_news_sm-3.3.0/ru_core_news_sm-3.3.0-py3-none-any.whl (15.3 MB)\n",
      "\u001b[K     |████████████████████████████████| 15.3 MB 464 kB/s eta 0:00:01\n",
      "\u001b[?25hRequirement already satisfied: pymorphy2>=0.9 in /Users/nirbhaisingh/opt/anaconda3/envs/dpc2022/lib/python3.9/site-packages (from ru-core-news-sm==3.3.0) (0.9.1)\n",
      "Requirement already satisfied: spacy<3.4.0,>=3.3.0.dev0 in /Users/nirbhaisingh/opt/anaconda3/envs/dpc2022/lib/python3.9/site-packages (from ru-core-news-sm==3.3.0) (3.3.1)\n",
      "Requirement already satisfied: docopt>=0.6 in /Users/nirbhaisingh/opt/anaconda3/envs/dpc2022/lib/python3.9/site-packages (from pymorphy2>=0.9->ru-core-news-sm==3.3.0) (0.6.2)\n",
      "Requirement already satisfied: dawg-python>=0.7.1 in /Users/nirbhaisingh/opt/anaconda3/envs/dpc2022/lib/python3.9/site-packages (from pymorphy2>=0.9->ru-core-news-sm==3.3.0) (0.7.2)\n",
      "Requirement already satisfied: pymorphy2-dicts-ru<3.0,>=2.4 in /Users/nirbhaisingh/opt/anaconda3/envs/dpc2022/lib/python3.9/site-packages (from pymorphy2>=0.9->ru-core-news-sm==3.3.0) (2.4.417127.4579844)\n",
      "Requirement already satisfied: requests<3.0.0,>=2.13.0 in /Users/nirbhaisingh/opt/anaconda3/envs/dpc2022/lib/python3.9/site-packages (from spacy<3.4.0,>=3.3.0.dev0->ru-core-news-sm==3.3.0) (2.27.1)\n",
      "Requirement already satisfied: catalogue<2.1.0,>=2.0.6 in /Users/nirbhaisingh/opt/anaconda3/envs/dpc2022/lib/python3.9/site-packages (from spacy<3.4.0,>=3.3.0.dev0->ru-core-news-sm==3.3.0) (2.0.7)\n",
      "Requirement already satisfied: langcodes<4.0.0,>=3.2.0 in /Users/nirbhaisingh/opt/anaconda3/envs/dpc2022/lib/python3.9/site-packages (from spacy<3.4.0,>=3.3.0.dev0->ru-core-news-sm==3.3.0) (3.3.0)\n",
      "Requirement already satisfied: numpy>=1.15.0 in /Users/nirbhaisingh/opt/anaconda3/envs/dpc2022/lib/python3.9/site-packages (from spacy<3.4.0,>=3.3.0.dev0->ru-core-news-sm==3.3.0) (1.21.2)\n",
      "Requirement already satisfied: setuptools in /Users/nirbhaisingh/opt/anaconda3/envs/dpc2022/lib/python3.9/site-packages (from spacy<3.4.0,>=3.3.0.dev0->ru-core-news-sm==3.3.0) (58.0.4)\n",
      "Requirement already satisfied: preshed<3.1.0,>=3.0.2 in /Users/nirbhaisingh/opt/anaconda3/envs/dpc2022/lib/python3.9/site-packages (from spacy<3.4.0,>=3.3.0.dev0->ru-core-news-sm==3.3.0) (3.0.6)\n",
      "Requirement already satisfied: packaging>=20.0 in /Users/nirbhaisingh/opt/anaconda3/envs/dpc2022/lib/python3.9/site-packages (from spacy<3.4.0,>=3.3.0.dev0->ru-core-news-sm==3.3.0) (21.3)\n",
      "Requirement already satisfied: murmurhash<1.1.0,>=0.28.0 in /Users/nirbhaisingh/opt/anaconda3/envs/dpc2022/lib/python3.9/site-packages (from spacy<3.4.0,>=3.3.0.dev0->ru-core-news-sm==3.3.0) (1.0.7)\n",
      "Requirement already satisfied: cymem<2.1.0,>=2.0.2 in /Users/nirbhaisingh/opt/anaconda3/envs/dpc2022/lib/python3.9/site-packages (from spacy<3.4.0,>=3.3.0.dev0->ru-core-news-sm==3.3.0) (2.0.6)\n",
      "Requirement already satisfied: pydantic!=1.8,!=1.8.1,<1.9.0,>=1.7.4 in /Users/nirbhaisingh/opt/anaconda3/envs/dpc2022/lib/python3.9/site-packages (from spacy<3.4.0,>=3.3.0.dev0->ru-core-news-sm==3.3.0) (1.8.2)\n",
      "Requirement already satisfied: spacy-legacy<3.1.0,>=3.0.9 in /Users/nirbhaisingh/opt/anaconda3/envs/dpc2022/lib/python3.9/site-packages (from spacy<3.4.0,>=3.3.0.dev0->ru-core-news-sm==3.3.0) (3.0.9)\n",
      "Requirement already satisfied: spacy-loggers<2.0.0,>=1.0.0 in /Users/nirbhaisingh/opt/anaconda3/envs/dpc2022/lib/python3.9/site-packages (from spacy<3.4.0,>=3.3.0.dev0->ru-core-news-sm==3.3.0) (1.0.2)\n",
      "Requirement already satisfied: jinja2 in /Users/nirbhaisingh/opt/anaconda3/envs/dpc2022/lib/python3.9/site-packages (from spacy<3.4.0,>=3.3.0.dev0->ru-core-news-sm==3.3.0) (2.11.3)\n",
      "Requirement already satisfied: blis<0.8.0,>=0.4.0 in /Users/nirbhaisingh/opt/anaconda3/envs/dpc2022/lib/python3.9/site-packages (from spacy<3.4.0,>=3.3.0.dev0->ru-core-news-sm==3.3.0) (0.7.8)\n",
      "Requirement already satisfied: wasabi<1.1.0,>=0.9.1 in /Users/nirbhaisingh/opt/anaconda3/envs/dpc2022/lib/python3.9/site-packages (from spacy<3.4.0,>=3.3.0.dev0->ru-core-news-sm==3.3.0) (0.9.1)\n",
      "Requirement already satisfied: typer<0.5.0,>=0.3.0 in /Users/nirbhaisingh/opt/anaconda3/envs/dpc2022/lib/python3.9/site-packages (from spacy<3.4.0,>=3.3.0.dev0->ru-core-news-sm==3.3.0) (0.4.1)\n",
      "Requirement already satisfied: pathy>=0.3.5 in /Users/nirbhaisingh/opt/anaconda3/envs/dpc2022/lib/python3.9/site-packages (from spacy<3.4.0,>=3.3.0.dev0->ru-core-news-sm==3.3.0) (0.6.1)\n",
      "Requirement already satisfied: thinc<8.1.0,>=8.0.14 in /Users/nirbhaisingh/opt/anaconda3/envs/dpc2022/lib/python3.9/site-packages (from spacy<3.4.0,>=3.3.0.dev0->ru-core-news-sm==3.3.0) (8.0.17)\n",
      "Requirement already satisfied: srsly<3.0.0,>=2.4.3 in /Users/nirbhaisingh/opt/anaconda3/envs/dpc2022/lib/python3.9/site-packages (from spacy<3.4.0,>=3.3.0.dev0->ru-core-news-sm==3.3.0) (2.4.3)\n",
      "Requirement already satisfied: tqdm<5.0.0,>=4.38.0 in /Users/nirbhaisingh/opt/anaconda3/envs/dpc2022/lib/python3.9/site-packages (from spacy<3.4.0,>=3.3.0.dev0->ru-core-news-sm==3.3.0) (4.62.0)\n",
      "Requirement already satisfied: pyparsing!=3.0.5,>=2.0.2 in /Users/nirbhaisingh/opt/anaconda3/envs/dpc2022/lib/python3.9/site-packages (from packaging>=20.0->spacy<3.4.0,>=3.3.0.dev0->ru-core-news-sm==3.3.0) (3.0.4)\n"
     ]
    },
    {
     "name": "stdout",
     "output_type": "stream",
     "text": [
      "Requirement already satisfied: smart-open<6.0.0,>=5.0.0 in /Users/nirbhaisingh/opt/anaconda3/envs/dpc2022/lib/python3.9/site-packages (from pathy>=0.3.5->spacy<3.4.0,>=3.3.0.dev0->ru-core-news-sm==3.3.0) (5.2.1)\n",
      "Requirement already satisfied: typing-extensions>=3.7.4.3 in /Users/nirbhaisingh/opt/anaconda3/envs/dpc2022/lib/python3.9/site-packages (from pydantic!=1.8,!=1.8.1,<1.9.0,>=1.7.4->spacy<3.4.0,>=3.3.0.dev0->ru-core-news-sm==3.3.0) (3.10.0.2)\n",
      "Requirement already satisfied: charset-normalizer~=2.0.0 in /Users/nirbhaisingh/opt/anaconda3/envs/dpc2022/lib/python3.9/site-packages (from requests<3.0.0,>=2.13.0->spacy<3.4.0,>=3.3.0.dev0->ru-core-news-sm==3.3.0) (2.0.4)\n",
      "Requirement already satisfied: certifi>=2017.4.17 in /Users/nirbhaisingh/opt/anaconda3/envs/dpc2022/lib/python3.9/site-packages (from requests<3.0.0,>=2.13.0->spacy<3.4.0,>=3.3.0.dev0->ru-core-news-sm==3.3.0) (2022.5.18)\n",
      "Requirement already satisfied: urllib3<1.27,>=1.21.1 in /Users/nirbhaisingh/opt/anaconda3/envs/dpc2022/lib/python3.9/site-packages (from requests<3.0.0,>=2.13.0->spacy<3.4.0,>=3.3.0.dev0->ru-core-news-sm==3.3.0) (1.26.8)\n",
      "Requirement already satisfied: idna<4,>=2.5 in /Users/nirbhaisingh/opt/anaconda3/envs/dpc2022/lib/python3.9/site-packages (from requests<3.0.0,>=2.13.0->spacy<3.4.0,>=3.3.0.dev0->ru-core-news-sm==3.3.0) (3.3)\n",
      "Requirement already satisfied: click<9.0.0,>=7.1.1 in /Users/nirbhaisingh/opt/anaconda3/envs/dpc2022/lib/python3.9/site-packages (from typer<0.5.0,>=0.3.0->spacy<3.4.0,>=3.3.0.dev0->ru-core-news-sm==3.3.0) (8.0.3)\n",
      "Requirement already satisfied: MarkupSafe>=0.23 in /Users/nirbhaisingh/opt/anaconda3/envs/dpc2022/lib/python3.9/site-packages (from jinja2->spacy<3.4.0,>=3.3.0.dev0->ru-core-news-sm==3.3.0) (1.1.1)\n",
      "\u001b[38;5;2m✔ Download and installation successful\u001b[0m\n",
      "You can now load the package via spacy.load('ru_core_news_sm')\n"
     ]
    }
   ],
   "source": [
    "# Loading required libraries\n",
    "!pip install -U spacy\n",
    "!pip install -U langdetect\n",
    "\n",
    "# Loading small english models from: https://spacy.io/models\n",
    "# For the test question, I'm supporting 4 languages:\n",
    "# 1. English\n",
    "# 2. Spanish\n",
    "# 3. Portuguese\n",
    "# 4. Russian\n",
    "!python -m spacy download en_core_web_sm\n",
    "!python -m spacy download es_core_news_sm\n",
    "!python -m spacy download pt_core_news_sm\n",
    "!python -m spacy download ru_core_news_sm"
   ]
  },
  {
   "cell_type": "code",
   "execution_count": 3,
   "id": "d1a75cfc",
   "metadata": {},
   "outputs": [],
   "source": [
    "# Importing the language libraries\n",
    "import spacy\n",
    "from langdetect import detect"
   ]
  },
  {
   "cell_type": "code",
   "execution_count": 4,
   "id": "f90d47a3",
   "metadata": {},
   "outputs": [],
   "source": [
    "# Loading all 4 language models as part of a dictionary\n",
    "nlp={}    \n",
    "for lang in [\"en\", \"es\", \"pt\", \"ru\"]: # Fill in the languages you want, hopefully they are supported by spacy.\n",
    "    if lang == \"en\":\n",
    "        nlp[lang]=spacy.load(lang + '_core_web_sm')\n",
    "    else: \n",
    "        nlp[lang]=spacy.load(lang + '_core_news_sm')\n"
   ]
  },
  {
   "cell_type": "code",
   "execution_count": 11,
   "id": "2f91fc68",
   "metadata": {},
   "outputs": [],
   "source": [
    "# Defining a function to \n",
    "# 1. detect the language from the input\n",
    "# 2. Load the appropriate language model for detected language\n",
    "# 3. Returning the list of entities if language is supported\n",
    "# 4. If language is not supported, it raises an exception.\n",
    "def entites(text, language_code):\n",
    "     lang = detect(text)\n",
    "     #print(f\"language detected as: {lang} and provided language code is: {language_code}\")\n",
    "     try:\n",
    "         nlp2 =nlp[language_code]\n",
    "     except KeyError:\n",
    "         return Exception(language_code + \" model is not loaded\")\n",
    "     return [{\"text\": str(x), \"type\": x.label_, \"start_pos\": x.start_char, \"end_pos\": x.end_char} for x in nlp2(str(text)).ents]"
   ]
  },
  {
   "cell_type": "code",
   "execution_count": 12,
   "id": "6fe30420",
   "metadata": {},
   "outputs": [],
   "source": [
    "# Testing with the english language sentence.\n",
    "text='Tony Stark owns the company StarkEnterprises . Emily Clark works at Microsoft and lives in Manchester. She loves to read the Bible and learn French'\n"
   ]
  },
  {
   "cell_type": "code",
   "execution_count": 13,
   "id": "d8d6aa7a",
   "metadata": {},
   "outputs": [
    {
     "name": "stdout",
     "output_type": "stream",
     "text": [
      "[{'text': 'Tony Stark', 'type': 'PERSON', 'start_pos': 0, 'end_pos': 10}, {'text': 'StarkEnterprises', 'type': 'ORG', 'start_pos': 28, 'end_pos': 44}, {'text': 'Emily Clark', 'type': 'PERSON', 'start_pos': 47, 'end_pos': 58}, {'text': 'Microsoft', 'type': 'ORG', 'start_pos': 68, 'end_pos': 77}, {'text': 'Manchester', 'type': 'LOC', 'start_pos': 91, 'end_pos': 101}, {'text': 'Bible', 'type': 'WORK_OF_ART', 'start_pos': 125, 'end_pos': 130}, {'text': 'French', 'type': 'NORP', 'start_pos': 141, 'end_pos': 147}]\n"
     ]
    }
   ],
   "source": [
    "ents = entites(text, \"en\")\n",
    "print(ents)\n",
    "\n",
    "# Output is a list of entities\n",
    "# each entity is a python dictionary with four fields:\n",
    "# 1. text: the indetified named entity\n",
    "# 2. type: type of the entity\n",
    "# 3. start_pos: starting position of entity in the text\n",
    "# 4. end_pos: ending position of entity in the text\n"
   ]
  },
  {
   "cell_type": "code",
   "execution_count": 17,
   "id": "14521696",
   "metadata": {},
   "outputs": [
    {
     "name": "stdout",
     "output_type": "stream",
     "text": [
      "Enter the text here on which you want to run the NER system:Tony Stark owns the company StarkEnterprises\n"
     ]
    }
   ],
   "source": [
    "sample_text = input(\"Enter the text here on which you want to run the NER system:\")\n"
   ]
  },
  {
   "cell_type": "code",
   "execution_count": 18,
   "id": "01c3a57f",
   "metadata": {},
   "outputs": [
    {
     "name": "stdout",
     "output_type": "stream",
     "text": [
      "Enter the language code here:en\n"
     ]
    }
   ],
   "source": [
    "sample_lang = input(\"Enter the language code here:\")\n"
   ]
  },
  {
   "cell_type": "code",
   "execution_count": 20,
   "id": "d1496d52",
   "metadata": {},
   "outputs": [
    {
     "name": "stdout",
     "output_type": "stream",
     "text": [
      "[{'text': 'Tony Stark', 'type': 'PERSON', 'start_pos': 0, 'end_pos': 10}, {'text': 'StarkEnterprises', 'type': 'ORG', 'start_pos': 28, 'end_pos': 44}]\n"
     ]
    }
   ],
   "source": [
    "ents = entites(sample_text, sample_lang)\n",
    "print(ents)"
   ]
  },
  {
   "cell_type": "code",
   "execution_count": null,
   "id": "5bff3b54",
   "metadata": {},
   "outputs": [],
   "source": []
  }
 ],
 "metadata": {
  "kernelspec": {
   "display_name": "Python 3 (ipykernel)",
   "language": "python",
   "name": "python3"
  },
  "language_info": {
   "codemirror_mode": {
    "name": "ipython",
    "version": 3
   },
   "file_extension": ".py",
   "mimetype": "text/x-python",
   "name": "python",
   "nbconvert_exporter": "python",
   "pygments_lexer": "ipython3",
   "version": "3.9.7"
  }
 },
 "nbformat": 4,
 "nbformat_minor": 5
}
